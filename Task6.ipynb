
       "      <td>HoReCa</td>\n",
       "      <td>Other</td>\n",
       "      <td>13265</td>\n",
       "      <td>1196</td>\n",
       "      <td>4221</td>\n",
       "      <td>6404</td>\n",
       "      <td>507</td>\n",
       "      <td>1788</td>\n",
       "      <td>-0.263419</td>\n",
       "      <td>-0.454023</td>\n",
       "      <td>-0.108671</td>\n",
       "      <td>0.061805</td>\n",
       "      <td>-0.618611</td>\n",
       "      <td>0.370131</td>\n",
       "      <td>4</td>\n",
       "    </tr>\n",
       "    <tr>\n",
       "      <th>4</th>\n",
       "      <td>Retail</td>\n",
       "      <td>Other</td>\n",
       "      <td>22615</td>\n",
       "      <td>5410</td>\n",
       "      <td>7198</td>\n",
       "      <td>3915</td>\n",
       "      <td>1777</td>\n",
       "      <td>5185</td>\n",
       "      <td>0.126922</td>\n",
       "      <td>-0.432733</td>\n",
       "      <td>-0.010585</td>\n",
       "      <td>0.130396</td>\n",
       "      <td>0.068900</td>\n",
       "      <td>0.861829</td>\n",
       "      <td>0</td>\n",
       "    </tr>\n",
       "  </tbody>\n",
       "</table>\n",
       "</div>"
      ],
      "text/plain": [
       "  Channel Region  Fresh  Milk  Grocery  Frozen  Detergents_Paper  \\\n",
       "0  Retail  Other  12669  9656     7561     214              2674   \n",
       "1  Retail  Other   7057  9810     9568    1762              3293   \n",
       "2  Retail  Other   6353  8808     7684    2405              3516   \n",
       "3  HoReCa  Other  13265  1196     4221    6404               507   \n",
       "4  Retail  Other  22615  5410     7198    3915              1777   \n",
       "\n",
       "   Delicatessen  x_kpca_poly  y_kpca_poly  x_kpca_rbf  y_kpca_rbf  x_kpca_cos  \\\n",
       "0          1338    -0.298146    -0.307672    0.019291   -0.043521    0.504789   \n",
       "1          1776    -0.272613    -0.248762    0.051053   -0.072161    0.889941   \n",
       "2          7844     0.557870    -0.356102    0.085747    0.005375    0.473994   \n",
       "3          1788    -0.263419    -0.454023   -0.108671    0.061805   -0.618611   \n",
       "4          5185     0.126922    -0.432733   -0.010585    0.130396    0.068900   \n",
       "\n",
       "   y_kpca_cos  cluster_kpca_cos  \n",
       "0    0.009622                 3  \n",
       "1   -0.262833                 1  \n",
       "2    0.235687                 1  \n",
       "3    0.370131                 4  \n",
       "4    0.861829                 0  "
      ]
     },
     "execution_count": 3,
     "metadata": {},
     "output_type": "execute_result"
    }
   ],
   "source": [
    "df.head()"
   ]
  },
  {
   "cell_type": "markdown",
   "metadata": {},
   "source": [
    "## Cluster Distribution"
   ]
  },
  {
   "cell_type": "code",
   "execution_count": 4,
   "metadata": {},
   "outputs": [
    {
     "data": {
      "text/html": [
       "<div>\n",
       "<style scoped>\n",
       "    .dataframe tbody tr th:only-of-type {\n",
       "        vertical-align: middle;\n",
       "    }\n",
       "\n",
       "    .dataframe tbody tr th {\n",
       "        vertical-align: top;\n",
       "    }\n",
       "\n",
       "    .dataframe thead th {\n",
       "        text-align: right;\n",
       "    }\n",
       "</style>\n",
       "<table border=\"1\" class=\"dataframe\">\n",
       "  <thead>\n",
       "    <tr style=\"text-align: right;\">\n",
       "      <th></th>\n",
       "      <th></th>\n",
       "      <th></th>\n",
       "      <th>Fresh</th>\n",
       "      <th>Milk</th>\n",
       "      <th>Grocery</th>\n",
       "      <th>Frozen</th>\n",
       "      <th>Detergents_Paper</th>\n",
       "      <th>Delicatessen</th>\n",
       "    </tr>\n",
       "    <tr>\n",
       "      <th>cluster_kpca_cos</th>\n",
       "      <th>Channel</th>\n",
       "      <th>Region</th>\n",
       "      <th></th>\n",
       "      <th></th>\n",
       "      <th></th>\n",
       "      <th></th>\n",
       "      <th></th>\n",
       "      <th></th>\n",
       "    </tr>\n",
       "  </thead>\n",
       "  <tbody>\n",
       "    <tr>\n",
       "      <th rowspan=\"6\" valign=\"top\">0</th>\n",
       "      <th rowspan=\"3\" valign=\"top\">HoReCa</th>\n",
       "      <th>Lisbon</th>\n",
       "      <td>35193.000000</td>\n",
       "      <td>4892.444444</td>\n",
       "      <td>6189.333333</td>\n",
       "      <td>6391.555556</td>\n",
       "      <td>569.555556</td>\n",
       "      <td>2702.222222</td>\n",
       "    </tr>\n",
       "    <tr>\n",
       "      <th>Other</th>\n",
       "      <td>32018.096154</td>\n",
       "      <td>5519.519231</td>\n",
       "      <td>5693.903846</td>\n",
       "      <td>7774.538462</td>\n",
       "      <td>865.076923</td>\n",
       "      <td>3372.961538</td>\n",
       "    </tr>\n",
       "    <tr>\n",
       "      <th>Porto</th>\n",
       "      <td>29443.000000</td>\n",
       "      <td>7568.666667</td>\n",
       "      <td>8123.333333</td>\n",
       "      <td>22094.666667</td>\n",
       "      <td>594.333333</td>\n",
       "      <td>2272.666667</td>\n",
       "    </tr>\n",
       "    <tr>\n",
       "      <th rowspan=\"3\" valign=\"top\">Retail</th>\n",
       "      <th>Lisbon</th>\n",
       "      <td>15927.000000</td>\n",
       "      <td>5955.000000</td>\n",
       "      <td>7413.500000</td>\n",
       "      <td>5040.000000</td>\n",
       "      <td>1761.500000</td>\n",
       "      <td>1845.000000</td>\n",
       "    </tr>\n",
       "    <tr>\n",
       "      <th>Other</th>\n",
       "      <td>23938.461538</td>\n",
       "      <td>6279.923077</td>\n",
       "      <td>9520.230769</td>\n",
       "      <td>2133.923077</td>\n",
       "      <td>2765.538462</td>\n",
       "      <td>2451.846154</td>\n",
       "    </tr>\n",
       "    <tr>\n",
       "      <th>Porto</th>\n",
       "      <td>20117.666667</td>\n",
       "      <td>4662.666667</td>\n",
       "      <td>6631.000000</td>\n",
       "      <td>4582.666667</td>\n",
       "      <td>2368.333333</td>\n",
       "      <td>2543.333333</td>\n",
       "    </tr>\n",
       "    <tr>\n",
       "      <th rowspan=\"5\" valign=\"top\">1</th>\n",
       "      <th rowspan=\"2\" valign=\"top\">HoReCa</th>\n",
       "      <th>Lisbon</th>\n",
       "      <td>6364.666667</td>\n",
       "      <td>17421.333333</td>\n",
       "      <td>11328.333333</td>\n",
       "      <td>5405.000000</td>\n",
       "      <td>2735.000000</td>\n",
       "      <td>3096.333333</td>\n",
       "    </tr>\n",
       "    <tr>\n",
       "      <th>Other</th>\n",
       "      <td>11908.500000</td>\n",
       "      <td>15602.500000</td>\n",
       "      <td>14858.000000</td>\n",
       "      <td>3388.000000</td>\n",
       "      <td>2680.500000</td>\n",
       "      <td>3507.000000</td>\n",
       "    </tr>\n",
       "    <tr>\n",
       "      <th rowspan=\"3\" valign=\"top\">Retail</th>\n",
       "      <th>Lisbon</th>\n",
       "      <td>4302.166667</td>\n",
       "      <td>13440.833333</td>\n",
       "      <td>23713.250000</td>\n",
       "      <td>2153.000000</td>\n",
       "      <td>10679.750000</td>\n",
       "      <td>2188.833333</td>\n",
       "    </tr>\n",
       "    <tr>\n",
       "      <th>Other</th>\n",
       "      <td>9260.603774</td>\n",
       "      <td>15728.924528</td>\n",
       "      <td>22173.962264</td>\n",
       "      <td>1778.943396</td>\n",
       "      <td>9987.754717</td>\n",
       "      <td>2207.358491</td>\n",
       "    </tr>\n",
       "    <tr>\n",
       "      <th>Porto</th>\n",
       "      <td>4998.900000</td>\n",
       "      <td>12905.200000</td>\n",
       "      <td>23565.600000</td>\n",
       "      <td>1106.200000</td>\n",
       "      <td>12201.800000</td>\n",
       "      <td>1326.400000</td>\n",
       "    </tr>\n",
       "    <tr>\n",
       "      <th rowspan=\"6\" valign=\"top\">2</th>\n",
       "      <th rowspan=\"3\" valign=\"top\">HoReCa</th>\n",
       "      <th>Lisbon</th>\n",
       "      <td>5899.782609</td>\n",
       "      <td>2275.304348</td>\n",
       "      <td>2553.260870</td>\n",
       "      <td>1647.913043</td>\n",
       "      <td>882.260870</td>\n",
       "      <td>635.043478</td>\n",
       "    </tr>\n",
       "    <tr>\n",
       "      <th>Other</th>\n",
       "      <td>4783.355556</td>\n",
       "      <td>2379.733333</td>\n",
       "      <td>2588.477778</td>\n",
       "      <td>1629.733333</td>\n",
       "      <td>516.666667</td>\n",
       "      <td>884.477778</td>\n",
       "    </tr>\n",
       "    <tr>\n",
       "      <th>Porto</th>\n",
       "      <td>6042.916667</td>\n",
       "      <td>1783.500000</td>\n",
       "      <td>4275.416667</td>\n",
       "      <td>1760.250000</td>\n",
       "      <td>513.583333</td>\n",
       "      <td>792.500000</td>\n",
       "    </tr>\n",
       "    <tr>\n",
       "      <th rowspan=\"3\" valign=\"top\">Retail</th>\n",
       "      <th>Lisbon</th>\n",
       "      <td>2790.000000</td>\n",
       "      <td>2527.000000</td>\n",
       "      <td>5265.000000</td>\n",
       "      <td>5612.000000</td>\n",
       "      <td>788.000000</td>\n",
       "      <td>1360.000000</td>\n",
       "    </tr>\n",
       "    <tr>\n",
       "      <th>Other</th>\n",
       "      <td>10750.000000</td>\n",
       "      <td>3468.666667</td>\n",
       "      <td>6065.333333</td>\n",
       "      <td>1101.333333</td>\n",
       "      <td>3235.666667</td>\n",
       "      <td>336.333333</td>\n",
       "    </tr>\n",
       "    <tr>\n",
       "      <th>Porto</th>\n",
       "      <td>7839.000000</td>\n",
       "      <td>2548.000000</td>\n",
       "      <td>6110.000000</td>\n",
       "      <td>936.000000</td>\n",
       "      <td>2960.000000</td>\n",
       "      <td>392.500000</td>\n",
       "    </tr>\n",
       "    <tr>\n",
       "      <th rowspan=\"5\" valign=\"top\">3</th>\n",
       "      <th rowspan=\"2\" valign=\"top\">HoReCa</th>\n",
       "      <th>Lisbon</th>\n",
       "      <td>3218.333333</td>\n",
       "      <td>7438.166667</td>\n",
       "      <td>7476.500000</td>\n",
       "      <td>1071.666667</td>\n",
       "      <td>2718.500000</td>\n",
       "      <td>960.000000</td>\n",
       "    </tr>\n",
       "    <tr>\n",
       "      <th>Other</th>\n",
       "      <td>2835.500000</td>\n",
       "      <td>6629.625000</td>\n",
       "      <td>8714.687500</td>\n",
       "      <td>1316.000000</td>\n",
       "      <td>2991.125000</td>\n",
       "      <td>1075.000000</td>\n",
       "    </tr>\n",
       "    <tr>\n",
       "      <th rowspan=\"3\" valign=\"top\">Retail</th>\n",
       "      <th>Lisbon</th>\n",
       "      <td>2443.333333</td>\n",
       "      <td>6128.333333</td>\n",
       "      <td>9281.333333</td>\n",
       "      <td>1662.000000</td>\n",
       "      <td>5195.666667</td>\n",
       "      <td>793.000000</td>\n",
       "    </tr>\n",
       "    <tr>\n",
       "      <th>Other</th>\n",
       "      <td>4539.060606</td>\n",
       "      <td>6606.030303</td>\n",
       "      <td>10429.969697</td>\n",
       "      <td>909.454545</td>\n",
       "      <td>4387.848485</td>\n",
       "      <td>1169.393939</td>\n",
       "    </tr>\n",
       "    <tr>\n",
       "      <th>Porto</th>\n",
       "      <td>3121.500000</td>\n",
       "      <td>6622.250000</td>\n",
       "      <td>10607.750000</td>\n",
       "      <td>647.250000</td>\n",
       "      <td>6188.000000</td>\n",
       "      <td>465.500000</td>\n",
       "    </tr>\n",
       "    <tr>\n",
       "      <th rowspan=\"4\" valign=\"top\">4</th>\n",
       "      <th rowspan=\"3\" valign=\"top\">HoReCa</th>\n",
       "      <th>Lisbon</th>\n",
       "      <td>15022.055556</td>\n",
       "      <td>1949.166667</td>\n",
       "      <td>2459.388889</td>\n",
       "      <td>3691.166667</td>\n",
       "      <td>341.500000</td>\n",
       "      <td>925.388889</td>\n",
       "    </tr>\n",
       "    <tr>\n",
       "      <th>Other</th>\n",
       "      <td>14973.352941</td>\n",
       "      <td>1907.509804</td>\n",
       "      <td>2390.274510</td>\n",
       "      <td>3780.823529</td>\n",
       "      <td>417.392157</td>\n",
       "      <td>806.803922</td>\n",
       "    </tr>\n",
       "    <tr>\n",
       "      <th>Porto</th>\n",
       "      <td>12720.846154</td>\n",
       "      <td>1570.076923</td>\n",
       "      <td>3646.076923</td>\n",
       "      <td>5650.307692</td>\n",
       "      <td>428.461538</td>\n",
       "      <td>1125.923077</td>\n",
       "    </tr>\n",
       "    <tr>\n",
       "      <th>Retail</th>\n",
       "      <th>Other</th>\n",
       "      <td>16085.666667</td>\n",
       "      <td>3109.666667</td>\n",
       "      <td>4594.000000</td>\n",
       "      <td>1181.666667</td>\n",
       "      <td>1537.000000</td>\n",
       "      <td>1096.333333</td>\n",
       "    </tr>\n",
       "  </tbody>\n",
       "</table>\n",
       "</div>"
      ],
      "text/plain": [
       "                                        Fresh          Milk       Grocery  \\\n",
       "cluster_kpca_cos Channel Region                                             \n",
       "0                HoReCa  Lisbon  35193.000000   4892.444444   6189.333333   \n",
       "                         Other   32018.096154   5519.519231   5693.903846   \n",
       "                         Porto   29443.000000   7568.666667   8123.333333   \n",
       "                 Retail  Lisbon  15927.000000   5955.000000   7413.500000   \n",
       "                         Other   23938.461538   6279.923077   9520.230769   \n",
       "                         Porto   20117.666667   4662.666667   6631.000000   \n",
       "1                HoReCa  Lisbon   6364.666667  17421.333333  11328.333333   \n",
       "                         Other   11908.500000  15602.500000  14858.000000   \n",
       "                 Retail  Lisbon   4302.166667  13440.833333  23713.250000   \n",
       "                         Other    9260.603774  15728.924528  22173.962264   \n",
       "                         Porto    4998.900000  12905.200000  23565.600000   \n",
       "2                HoReCa  Lisbon   5899.782609   2275.304348   2553.260870   \n",
       "                         Other    4783.355556   2379.733333   2588.477778   \n",
       "                         Porto    6042.916667   1783.500000   4275.416667   \n",
       "                 Retail  Lisbon   2790.000000   2527.000000   5265.000000   \n",
       "                         Other   10750.000000   3468.666667   6065.333333   \n",
       "                         Porto    7839.000000   2548.000000   6110.000000   \n",
       "3                HoReCa  Lisbon   3218.333333   7438.166667   7476.500000   \n",
       "                         Other    2835.500000   6629.625000   8714.687500   \n",
       "                 Retail  Lisbon   2443.333333   6128.333333   9281.333333   \n",
       "                         Other    4539.060606   6606.030303  10429.969697   \n",
       "                         Porto    3121.500000   6622.250000  10607.750000   \n",
       "4                HoReCa  Lisbon  15022.055556   1949.166667   2459.388889   \n",
       "                         Other   14973.352941   1907.509804   2390.274510   \n",
       "                         Porto   12720.846154   1570.076923   3646.076923   \n",
       "                 Retail  Other   16085.666667   3109.666667   4594.000000   \n",
       "\n",
       "                                       Frozen  Detergents_Paper  Delicatessen  \n",
       "cluster_kpca_cos Channel Region                                                \n",
       "0                HoReCa  Lisbon   6391.555556        569.555556   2702.222222  \n",
       "                         Other    7774.538462        865.076923   3372.961538  \n",
       "                         Porto   22094.666667        594.333333   2272.666667  \n",
       "                 Retail  Lisbon   5040.000000       1761.500000   1845.000000  \n",
       "                         Other    2133.923077       2765.538462   2451.846154  \n",
       "                         Porto    4582.666667       2368.333333   2543.333333  \n",
       "1                HoReCa  Lisbon   5405.000000       2735.000000   3096.333333  \n",
       "                         Other    3388.000000       2680.500000   3507.000000  \n",
       "                 Retail  Lisbon   2153.000000      10679.750000   2188.833333  \n",
       "                         Other    1778.943396       9987.754717   2207.358491  \n",
       "                         Porto    1106.200000      12201.800000   1326.400000  \n",
       "2                HoReCa  Lisbon   1647.913043        882.260870    635.043478  \n",
       "                         Other    1629.733333        516.666667    884.477778  \n",
       "                         Porto    1760.250000        513.583333    792.500000  \n",
       "                 Retail  Lisbon   5612.000000        788.000000   1360.000000  \n",
       "                         Other    1101.333333       3235.666667    336.333333  \n",
       "                         Porto     936.000000       2960.000000    392.500000  \n",
       "3                HoReCa  Lisbon   1071.666667       2718.500000    960.000000  \n",
       "                         Other    1316.000000       2991.125000   1075.000000  \n",
       "                 Retail  Lisbon   1662.000000       5195.666667    793.000000  \n",
       "                         Other     909.454545       4387.848485   1169.393939  \n",
       "                         Porto     647.250000       6188.000000    465.500000  \n",
       "4                HoReCa  Lisbon   3691.166667        341.500000    925.388889  \n",
       "                         Other    3780.823529        417.392157    806.803922  \n",
       "                         Porto    5650.307692        428.461538   1125.923077  \n",
       "                 Retail  Other    1181.666667       1537.000000   1096.333333  "
      ]
     },
     "execution_count": 4,
     "metadata": {},
     "output_type": "execute_result"
    }
   ],
   "source": [
    "df.groupby([\"cluster_kpca_cos\", \"Channel\", \"Region\"])[features].mean()"
   ]
  },
  {
   "cell_type": "code",
   "execution_count": 6,
   "metadata": {},
   "outputs": [
    {
     "data": {
      "text/html": [
       "<div>\n",
       "<style scoped>\n",
       "    .dataframe tbody tr th:only-of-type {\n",
       "        vertical-align: middle;\n",
       "    }\n",
       "\n",
       "    .dataframe tbody tr th {\n",
       "        vertical-align: top;\n",
       "    }\n",
       "\n",
       "    .dataframe thead th {\n",
       "        text-align: right;\n",
       "    }\n",
       "</style>\n",
       "<table border=\"1\" class=\"dataframe\">\n",
       "  <thead>\n",
       "    <tr style=\"text-align: right;\">\n",
       "      <th></th>\n",
       "      <th>Channel</th>\n",
       "      <th>Region</th>\n",
       "      <th>Fresh</th>\n",
       "      <th>Milk</th>\n",
       "      <th>Grocery</th>\n",
       "      <th>Frozen</th>\n",
       "      <th>Detergents_Paper</th>\n",
       "      <th>Delicatessen</th>\n",
       "      <th>x_kpca_poly</th>\n",
       "      <th>y_kpca_poly</th>\n",
       "      <th>x_kpca_rbf</th>\n",
       "      <th>y_kpca_rbf</th>\n",
       "      <th>x_kpca_cos</th>\n",
       "      <th>y_kpca_cos</th>\n",
       "    </tr>\n",
       "    <tr>\n",
       "      <th>cluster_kpca_cos</th>\n",
       "      <th></th>\n",
       "      <th></th>\n",
       "      <th></th>\n",
       "      <th></th>\n",
       "      <th></th>\n",
       "      <th></th>\n",
       "      <th></th>\n",
       "      <th></th>\n",
       "      <th></th>\n",
       "      <th></th>\n",
       "      <th></th>\n",
       "      <th></th>\n",
       "      <th></th>\n",
       "      <th></th>\n",
       "    </tr>\n",
       "  </thead>\n",
       "  <tbody>\n",
       "    <tr>\n",
       "      <th>0</th>\n",
       "      <td>82</td>\n",
       "      <td>82</td>\n",
       "      <td>82</td>\n",
       "      <td>82</td>\n",
       "      <td>82</td>\n",
       "      <td>82</td>\n",
       "      <td>82</td>\n",
       "      <td>82</td>\n",
       "      <td>82</td>\n",
       "      <td>82</td>\n",
       "      <td>82</td>\n",
       "      <td>82</td>\n",
       "      <td>82</td>\n",
       "      <td>82</td>\n",
       "    </tr>\n",
       "    <tr>\n",
       "      <th>1</th>\n",
       "      <td>80</td>\n",
       "      <td>80</td>\n",
       "      <td>80</td>\n",
       "      <td>80</td>\n",
       "      <td>80</td>\n",
       "      <td>80</td>\n",
       "      <td>80</td>\n",
       "      <td>80</td>\n",
       "      <td>80</td>\n",
       "      <td>80</td>\n",
       "      <td>80</td>\n",
       "      <td>80</td>\n",
       "      <td>80</td>\n",
       "      <td>80</td>\n",
       "    </tr>\n",
       "    <tr>\n",
       "      <th>2</th>\n",
       "      <td>131</td>\n",
       "      <td>131</td>\n",
       "      <td>131</td>\n",
       "      <td>131</td>\n",
       "      <td>131</td>\n",
       "      <td>131</td>\n",
       "      <td>131</td>\n",
       "      <td>131</td>\n",
       "      <td>131</td>\n",
       "      <td>131</td>\n",
       "      <td>131</td>\n",
       "      <td>131</td>\n",
       "      <td>131</td>\n",
       "      <td>131</td>\n",
       "    </tr>\n",
       "    <tr>\n",
       "      <th>3</th>\n",
       "      <td>62</td>\n",
       "      <td>62</td>\n",
       "      <td>62</td>\n",
       "      <td>62</td>\n",
       "      <td>62</td>\n",
       "      <td>62</td>\n",
       "      <td>62</td>\n",
       "      <td>62</td>\n",
       "      <td>62</td>\n",
       "      <td>62</td>\n",
       "      <td>62</td>\n",
       "      <td>62</td>\n",
       "      <td>62</td>\n",
       "      <td>62</td>\n",
       "    </tr>\n",
       "    <tr>\n",
       "      <th>4</th>\n",
       "      <td>85</td>\n",
       "      <td>85</td>\n",
       "      <td>85</td>\n",
       "      <td>85</td>\n",
       "      <td>85</td>\n",
       "      <td>85</td>\n",
       "      <td>85</td>\n",
       "      <td>85</td>\n",
       "      <td>85</td>\n",
       "      <td>85</td>\n",
       "      <td>85</td>\n",
       "      <td>85</td>\n",
       "      <td>85</td>\n",
       "      <td>85</td>\n",
       "    </tr>\n",
       "  </tbody>\n",
       "</table>\n",
       "</div>"
      ],
      "text/plain": [
       "                  Channel  Region  Fresh  Milk  Grocery  Frozen  \\\n",
       "cluster_kpca_cos                                                  \n",
       "0                      82      82     82    82       82      82   \n",
       "1                      80      80     80    80       80      80   \n",
       "2                     131     131    131   131      131     131   \n",
       "3                      62      62     62    62       62      62   \n",
       "4                      85      85     85    85       85      85   \n",
       "\n",
       "                  Detergents_Paper  Delicatessen  x_kpca_poly  y_kpca_poly  \\\n",
       "cluster_kpca_cos                                                             \n",
       "0                               82            82           82           82   \n",
       "1                               80            80           80           80   \n",
       "2                              131           131          131          131   \n",
       "3                               62            62           62           62   \n",
       "4                               85            85           85           85   \n",
       "\n",
       "                  x_kpca_rbf  y_kpca_rbf  x_kpca_cos  y_kpca_cos  \n",
       "cluster_kpca_cos                                                  \n",
       "0                         82          82          82          82  \n",
       "1                         80          80          80          80  \n",
       "2                        131         131         131         131  \n",
       "3                         62          62          62          62  \n",
       "4                         85          85          85          85  "
      ]
     },
     "execution_count": 6,
     "metadata": {},
     "output_type": "execute_result"
    }
   ],
   "source": [
    "df.groupby(\"cluster_kpca_cos\").count()"
   ]
  },
  {
   "cell_type": "code",
   "execution_count": 7,
   "metadata": {},
   "outputs": [],
   "source": [
    "clusters=df.cluster_kpca_cos.tolist()"
   ]
  },
  {
   "cell_type": "code",
   "execution_count": 13,
   "metadata": {},
   "outputs": [],
   "source": [
    "df_normalized=df.copy(deep=True)     # we should copy our data not to change original one.\n",
    "df_normalized[features]= df_normalized[features] / df_normalized[features].max() # the means normalized data were below zero, so we devided them with their max values to make them positive and maximum result 1"
   ]
  },
  {
   "cell_type": "code",
   "execution_count": 14,
   "metadata": {},
   "outputs": [
    {
     "data": {
      "text/html": [
       "<div>\n",
       "<style scoped>\n",
       "    .dataframe tbody tr th:only-of-type {\n",
       "        vertical-align: middle;\n",
       "    }\n",
       "\n",
       "    .dataframe tbody tr th {\n",
       "        vertical-align: top;\n",
       "    }\n",
       "\n",
       "    .dataframe thead th {\n",
       "        text-align: right;\n",
       "    }\n",
       "</style>\n",
       "<table border=\"1\" class=\"dataframe\">\n",
       "  <thead>\n",
       "    <tr style=\"text-align: right;\">\n",
       "      <th></th>\n",
       "      <th>Channel</th>\n",
       "      <th>Region</th>\n",
       "      <th>Fresh</th>\n",
       "      <th>Milk</th>\n",
       "      <th>Grocery</th>\n",
       "      <th>Frozen</th>\n",
       "      <th>Detergents_Paper</th>\n",
       "      <th>Delicatessen</th>\n",
       "      <th>x_kpca_poly</th>\n",
       "      <th>y_kpca_poly</th>\n",
       "      <th>x_kpca_rbf</th>\n",
       "      <th>y_kpca_rbf</th>\n",
       "      <th>x_kpca_cos</th>\n",
       "      <th>y_kpca_cos</th>\n",
       "      <th>cluster_kpca_cos</th>\n",
       "    </tr>\n",
       "  </thead>\n",
       "  <tbody>\n",
       "    <tr>\n",
       "      <th>0</th>\n",
       "      <td>Retail</td>\n",
       "      <td>Other</td>\n",
       "      <td>0.112964</td>\n",
       "      <td>0.131378</td>\n",
       "      <td>0.081494</td>\n",
       "      <td>0.003516</td>\n",
       "      <td>0.065496</td>\n",
       "      <td>0.027908</td>\n",
       "      <td>-0.298146</td>\n",
       "      <td>-0.307672</td>\n",
       "      <td>0.019291</td>\n",
       "      <td>-0.043521</td>\n",
       "      <td>0.504789</td>\n",
       "      <td>0.009622</td>\n",
       "      <td>3</td>\n",
       "    </tr>\n",
       "    <tr>\n",
       "      <th>1</th>\n",
       "      <td>Retail</td>\n",
       "      <td>Other</td>\n",
       "      <td>0.062924</td>\n",
       "      <td>0.133473</td>\n",
       "      <td>0.103126</td>\n",
       "      <td>0.028947</td>\n",
       "      <td>0.080657</td>\n",
       "      <td>0.037044</td>\n",
       "      <td>-0.272613</td>\n",
       "      <td>-0.248762</td>\n",
       "      <td>0.051053</td>\n",
       "      <td>-0.072161</td>\n",
       "      <td>0.889941</td>\n",
       "      <td>-0.262833</td>\n",
       "      <td>1</td>\n",
       "    </tr>\n",
       "    <tr>\n",
       "      <th>2</th>\n",
       "      <td>Retail</td>\n",
       "      <td>Other</td>\n",
       "      <td>0.056647</td>\n",
       "      <td>0.119840</td>\n",
       "      <td>0.082820</td>\n",
       "      <td>0.039511</td>\n",
       "      <td>0.086119</td>\n",
       "      <td>0.163611</td>\n",
       "      <td>0.557870</td>\n",
       "      <td>-0.356102</td>\n",
       "      <td>0.085747</td>\n",
       "      <td>0.005375</td>\n",
       "      <td>0.473994</td>\n",
       "      <td>0.235687</td>\n",
       "      <td>1</td>\n",
       "    </tr>\n",
       "    <tr>\n",
       "      <th>3</th>\n",
       "      <td>HoReCa</td>\n",
       "      <td>Other</td>\n",
       "      <td>0.118278</td>\n",
       "      <td>0.016273</td>\n",
       "      <td>0.045495</td>\n",
       "      <td>0.105210</td>\n",
       "      <td>0.012418</td>\n",
       "      <td>0.037294</td>\n",
       "      <td>-0.263419</td>\n",
       "      <td>-0.454023</td>\n",
       "      <td>-0.108671</td>\n",
       "      <td>0.061805</td>\n",
       "      <td>-0.618611</td>\n",
       "      <td>0.370131</td>\n",
       "      <td>4</td>\n",
       "    </tr>\n",
       "    <tr>\n",
       "      <th>4</th>\n",
       "      <td>Retail</td>\n",
       "      <td>Other</td>\n",
       "      <td>0.201648</td>\n",
       "      <td>0.073607</td>\n",
       "      <td>0.077581</td>\n",
       "      <td>0.064318</td>\n",
       "      <td>0.043525</td>\n",
       "      <td>0.108149</td>\n",
       "      <td>0.126922</td>\n",
       "      <td>-0.432733</td>\n",
       "      <td>-0.010585</td>\n",
       "      <td>0.130396</td>\n",
       "      <td>0.068900</td>\n",
       "      <td>0.861829</td>\n",
       "      <td>0</td>\n",
       "    </tr>\n",
       "  </tbody>\n",
       "</table>\n",
       "</div>"
      ],
      "text/plain": [
       "  Channel Region     Fresh      Milk   Grocery    Frozen  Detergents_Paper  \\\n",
       "0  Retail  Other  0.112964  0.131378  0.081494  0.003516          0.065496   \n",
       "1  Retail  Other  0.062924  0.133473  0.103126  0.028947          0.080657   \n",
       "2  Retail  Other  0.056647  0.119840  0.082820  0.039511          0.086119   \n",
       "3  HoReCa  Other  0.118278  0.016273  0.045495  0.105210          0.012418   \n",
       "4  Retail  Other  0.201648  0.073607  0.077581  0.064318          0.043525   \n",
       "\n",
       "   Delicatessen  x_kpca_poly  y_kpca_poly  x_kpca_rbf  y_kpca_rbf  x_kpca_cos  \\\n",
       "0      0.027908    -0.298146    -0.307672    0.019291   -0.043521    0.504789   \n",
       "1      0.037044    -0.272613    -0.248762    0.051053   -0.072161    0.889941   \n",
       "2      0.163611     0.557870    -0.356102    0.085747    0.005375    0.473994   \n",
       "3      0.037294    -0.263419    -0.454023   -0.108671    0.061805   -0.618611   \n",
       "4      0.108149     0.126922    -0.432733   -0.010585    0.130396    0.068900   \n",
       "\n",
       "   y_kpca_cos  cluster_kpca_cos  \n",
       "0    0.009622                 3  \n",
       "1   -0.262833                 1  \n",
       "2    0.235687                 1  \n",
       "3    0.370131                 4  \n",
       "4    0.861829                 0  "
      ]
     },
     "execution_count": 14,
     "metadata": {},
     "output_type": "execute_result"
    }
   ],
   "source": [
    "df_normalized.head()"
   ]
  },
  {
   "cell_type": "code",
   "execution_count": 17,
   "metadata": {},
   "outputs": [
    {
     "data": {
      "text/plain": [
       "Fresh               0.000027\n",
       "Milk                0.000748\n",
       "Grocery             0.000032\n",
       "Frozen              0.000411\n",
       "Detergents_Paper    0.000073\n",
       "Delicatessen        0.000063\n",
       "dtype: float64"
      ]
     },
     "execution_count": 17,
     "metadata": {},
     "output_type": "execute_result"
    }
   ],
   "source": [
    "df_normalized[features].min()"
   ]
  },
  {
   "cell_type": "code",
   "execution_count": 18,
   "metadata": {},
   "outputs": [
    {
     "data": {
      "text/plain": [
       "Fresh               1.0\n",
       "Milk                1.0\n",
       "Grocery             1.0\n",
       "Frozen              1.0\n",
       "Detergents_Paper    1.0\n",
       "Delicatessen        1.0\n",
       "dtype: float64"
      ]
     },
     "execution_count": 18,
     "metadata": {},
     "output_type": "execute_result"
    }
   ],
   "source": [
    "df_normalized[features].max()"
   ]
  },
  {
   "cell_type": "code",
   "execution_count": 19,
   "metadata": {},
   "outputs": [
    {
     "data": {
      "text/plain": [
       "131"
      ]
     },
     "execution_count": 19,
     "metadata": {},
     "output_type": "execute_result"
    }
   ],
   "source": [
    "biggest_cluster=df.groupby(\"cluster_kpca_cos\").count().max().max()\n",
    "biggest_cluster"
   ]
  },
  {
   "cell_type": "code",
   "execution_count": 20,
   "metadata": {},
   "outputs": [
    {
     "data": {
      "text/plain": [
       "Fresh               0.046926\n",
       "Milk                0.031775\n",
       "Grocery             0.031156\n",
       "Frozen              0.027150\n",
       "Detergents_Paper    0.016710\n",
       "Delicatessen        0.017017\n",
       "dtype: float64"
      ]
     },
     "execution_count": 20,
     "metadata": {},
     "output_type": "execute_result"
    }
   ],
   "source": [
    "df_normalized.loc[df_normalized.cluster_kpca_cos==2, features].mean()"
   ]
  },
  {
   "cell_type": "code",
   "execution_count": 32,
   "metadata": {},
   "outputs": [
    {
     "data": {
      "application/vnd.plotly.v1+json": {
       "config": {
        "plotlyServerURL": "https://plot.ly"
       },
       "data": [
        {
         "line": {
          "width": 2.50381679389313
         },
         "mode": "lines",
         "name": "Cluster0",
         "opacity": 0.6259541984732825,
         "r": [
          0.2689551173494098,
          0.07653933174886458,
          0.07027376589782279,
          0.11613364807028609,
          0.029414119183443294,
          0.06352207881005036,
          0.2689551173494098
         ],
         "text": [
          "Mean value :30163.585365853658",
          "Mean value :5625.487804878048",
          "Mean value :6520.0",
          "Mean value :7068.9390243902435",
          "Mean value :1200.8902439024391",
          "Mean value :3045.439024390244",
          "Mean value :30163.585365853658"
         ],
         "theta": [
          "Fresh",
          "Milk",
          "Grocery",
          "Frozen",
          "Detergents_Paper",
          "Delicatessen",
          "Fresh"
         ],
         "type": "scatterpolar"
        },
        {
         "line": {
          "width": 2.4427480916030535
         },
         "mode": "lines",
         "name": "Cluster1",
         "opacity": 0.6106870229007634,
         "r": [
          0.07081278811602215,
          0.20535320688998332,
          0.23700366458288427,
          0.031660820779050095,
          0.24282092732750385,
          0.04505949773689592,
          0.07081278811602215
         ],
         "text": [
          "Mean value :7941.725",
          "Mean value :15093.05",
          "Mean value :21989.2",
          "Mean value :1927.1625",
          "Mean value :9913.65",
          "Mean value :2160.2875",
          "Mean value :7941.725"
         ],
         "theta": [
          "Fresh",
          "Milk",
          "Grocery",
          "Frozen",
          "Detergents_Paper",
          "Delicatessen",
          "Fresh"
         ],
         "type": "scatterpolar"
        },
        {
         "line": {
          "width": 4
         },
         "mode": "lines",
         "name": "Cluster2",
         "opacity": 1,
         "r": [
          0.046926237193434875,
          0.031775180463964436,
          0.031155865718625185,
          0.027149908594843713,
          0.01670986701099799,
          0.017016549391588264,
          0.046926237193434875
         ],
         "text": [
          "Mean value :5262.824427480916",
          "Mean value :2335.412213740458",
          "Mean value :2890.641221374046",
          "Mean value :1652.5877862595419",
          "Mean value :682.2137404580153",
          "Mean value :815.824427480916",
          "Mean value :5262.824427480916"
         ],
         "theta": [
          "Fresh",
          "Milk",
          "Grocery",
          "Frozen",
          "Detergents_Paper",
          "Delicatessen",
          "Fresh"
         ],
         "type": "scatterpolar"
        },
        {
         "line": {
          "width": 1.8931297709923665
         },
         "mode": "lines",
         "name": "Cluster3",
         "opacity": 0.6,
         "r": [
          0.03369348525217011,
          0.09075866887753803,
          0.10408910429806195,
          0.017243005735744502,
          0.09849072048304529,
          0.02213347436101877,
          0.03369348525217011
         ],
         "text": [
          "Mean value :3778.7580645161293",
          "Mean value :6670.580645161291",
          "Mean value :9657.387096774193",
          "Mean value :1049.5645161290322",
          "Mean value :4021.0806451612902",
          "Mean value :1061.1451612903227",
          "Mean value :3778.7580645161293"
         ],
         "theta": [
          "Fresh",
          "Milk",
          "Grocery",
          "Frozen",
          "Detergents_Paper",
          "Delicatessen",
          "Fresh"
         ],
         "type": "scatterpolar"
        },
        {
         "line": {
          "width": 2.595419847328244
         },
         "mode": "lines",
         "name": "Cluster4",
         "opacity": 0.648854961832061,
         "r": [
          0.13088089744551332,
          0.025948365141588492,
          0.02882898190532949,
          0.06499241862708052,
          0.010839136154130988,
          0.0185833422287005,
          0.13088089744551332
         ],
         "text": [
          "Mean value :14678.423529411764",
          "Mean value :1907.1529411764707",
          "Mean value :2674.752941176471",
          "Mean value :3956.0235294117647",
          "Mean value :442.52941176470586",
          "Mean value :890.9411764705883",
          "Mean value :14678.423529411764"
         ],
         "theta": [
          "Fresh",
          "Milk",
          "Grocery",
          "Frozen",
          "Detergents_Paper",
          "Delicatessen",
          "Fresh"
         ],
         "type": "scatterpolar"
        }
       ],
       "layout": {
        "autosize": false,
        "height": 450,
        "polar": {
         "angularaxis": {
          "type": "category"
         },
         "radialaxis": {
          "autorange": true,
          "range": [
           0,
           0.2689551173494098
          ],
          "type": "linear"
         }
        },
        "template": {
         "data": {
          "bar": [
           {
            "error_x": {
             "color": "#f2f5fa"
            },
            "error_y": {
             "color": "#f2f5fa"
            },
            "marker": {
             "line": {
              "color": "rgb(17,17,17)",
              "width": 0.5
             }
            },
            "type": "bar"
           }
          ],
          "barpolar": [
           {
            "marker": {
             "line": {
              "color": "rgb(17,17,17)",
              "width": 0.5
             }
            },
            "type": "barpolar"
           }
          ],
          "carpet": [
           {
            "aaxis": {
             "endlinecolor": "#A2B1C6",
             "gridcolor": "#506784",
             "linecolor": "#506784",
             "minorgridcolor": "#506784",
             "startlinecolor": "#A2B1C6"
            },
            "baxis": {
             "endlinecolor": "#A2B1C6",
             "gridcolor": "#506784",
             "linecolor": "#506784",
             "minorgridcolor": "#506784",
             "startlinecolor": "#A2B1C6"
            },
            "type": "carpet"
           }
          ],
          "choropleth": [
           {
            "colorbar": {
             "outlinewidth": 0,
             "ticks": ""
            },
            "type": "choropleth"
           }
          ],
          "contour": [
           {
            "colorbar": {
             "outlinewidth": 0,
             "ticks": ""
            },
            "colorscale": [
             [
              0,
              "#0d0887"
             ],
             [
              0.1111111111111111,
              "#46039f"
             ],
             [
              0.2222222222222222,
              "#7201a8"
             ],
             [
              0.3333333333333333,
              "#9c179e"
             ],
             [
              0.4444444444444444,
              "#bd3786"
             ],
             [
              0.5555555555555556,
              "#d8576b"
             ],
             [
              0.6666666666666666,
              "#ed7953"
             ],
             [
              0.7777777777777778,
              "#fb9f3a"
             ],
             [
              0.8888888888888888,
              "#fdca26"
             ],
             [
              1,
              "#f0f921"
             ]
            ],
            "type": "contour"
           }
          ],
          "contourcarpet": [
           {
            "colorbar": {
             "outlinewidth": 0,
             "ticks": ""
            },
            "type": "contourcarpet"
           }
          ],
          "heatmap": [
           {
            "colorbar": {
             "outlinewidth": 0,
             "ticks": ""
            },
            "colorscale": [
             [
              0,
              "#0d0887"
             ],
             [
              0.1111111111111111,
              "#46039f"
             ],
             [
              0.2222222222222222,
              "#7201a8"
             ],
             [
              0.3333333333333333,
              "#9c179e"
             ],
             [
              0.4444444444444444,
              "#bd3786"
             ],
             [
              0.5555555555555556,
              "#d8576b"
             ],
             [
              0.6666666666666666,
              "#ed7953"
             ],
             [
              0.7777777777777778,
              "#fb9f3a"
             ],
             [
              0.8888888888888888,
              "#fdca26"
             ],
             [
              1,
              "#f0f921"
             ]
            ],
            "type": "heatmap"
           }
          ],
          "heatmapgl": [
           {
            "colorbar": {
             "outlinewidth": 0,
             "ticks": ""
            },
            "colorscale": [
             [
              0,
              "#0d0887"
             ],
             [
              0.1111111111111111,
              "#46039f"
             ],
             [
              0.2222222222222222,
              "#7201a8"
             ],
             [
              0.3333333333333333,
              "#9c179e"
             ],
             [
              0.4444444444444444,
              "#bd3786"
             ],
             [
              0.5555555555555556,
              "#d8576b"
             ],
             [
              0.6666666666666666,
              "#ed7953"
             ],
             [
              0.7777777777777778,
              "#fb9f3a"
             ],
             [
              0.8888888888888888,
              "#fdca26"
             ],
             [
              1,
              "#f0f921"
             ]
            ],
            "type": "heatmapgl"
           }
          ],
          "histogram": [
           {
            "marker": {
             "colorbar": {
              "outlinewidth": 0,
              "ticks": ""
             }
            },
            "type": "histogram"
           }
          ],
          "histogram2d": [
           {
            "colorbar": {
             "outlinewidth": 0,
             "ticks": ""
            },
            "colorscale": [
             [
              0,
              "#0d0887"
             ],
             [
              0.1111111111111111,
              "#46039f"
             ],
             [
              0.2222222222222222,
              "#7201a8"
             ],
             [
              0.3333333333333333,
              "#9c179e"
             ],
             [
              0.4444444444444444,
              "#bd3786"
             ],
             [
              0.5555555555555556,
              "#d8576b"
             ],
             [
              0.6666666666666666,
              "#ed7953"
             ],
             [
              0.7777777777777778,
              "#fb9f3a"
             ],
             [
              0.8888888888888888,
              "#fdca26"
             ],
             [
              1,
              "#f0f921"
             ]
            ],
            "type": "histogram2d"
           }
          ],
          "histogram2dcontour": [
           {
            "colorbar": {
             "outlinewidth": 0,
             "ticks": ""
            },
            "colorscale": [
             [
              0,
              "#0d0887"
             ],
             [
              0.1111111111111111,
              "#46039f"
             ],
             [
              0.2222222222222222,
              "#7201a8"
             ],
             [
              0.3333333333333333,
              "#9c179e"
             ],
             [
              0.4444444444444444,
              "#bd3786"
             ],
             [
              0.5555555555555556,
              "#d8576b"
             ],
             [
              0.6666666666666666,
              "#ed7953"
             ],
             [
              0.7777777777777778,
              "#fb9f3a"
             ],
             [
              0.8888888888888888,
              "#fdca26"
             ],
             [
              1,
              "#f0f921"
             ]
            ],
            "type": "histogram2dcontour"
           }
          ],
          "mesh3d": [
           {
            "colorbar": {
             "outlinewidth": 0,
             "ticks": ""
            },
            "type": "mesh3d"
           }
          ],
          "parcoords": [
           {
            "line": {
             "colorbar": {
              "outlinewidth": 0,
              "ticks": ""
             }
            },
            "type": "parcoords"
           }
          ],
          "pie": [
           {
            "automargin": true,
            "type": "pie"
           }
          ],
          "scatter": [
           {
            "marker": {
             "line": {
              "color": "#283442"
             }
            },
            "type": "scatter"
           }
          ],
          "scatter3d": [
           {
            "line": {
             "colorbar": {
              "outlinewidth": 0,
              "ticks": ""
             }
            },
            "marker": {
             "colorbar": {
              "outlinewidth": 0,
              "ticks": ""
             }
            },
            "type": "scatter3d"
           }
          ],
          "scattercarpet": [
           {
            "marker": {
             "colorbar": {
              "outlinewidth": 0,
              "ticks": ""
             }
            },
            "type": "scattercarpet"
           }
          ],
          "scattergeo": [
           {
            "marker": {
             "colorbar": {
              "outlinewidth": 0,
              "ticks": ""
             }
            },
            "type": "scattergeo"
           }
          ],
          "scattergl": [
           {
            "marker": {
             "line": {
              "color": "#283442"
             }
            },
            "type": "scattergl"
           }
          ],
          "scattermapbox": [
           {
            "marker": {
             "colorbar": {
              "outlinewidth": 0,
              "ticks": ""
             }
            },
            "type": "scattermapbox"
           }
          ],
          "scatterpolar": [
           {
            "marker": {
             "colorbar": {
              "outlinewidth": 0,
              "ticks": ""
             }
            },
            "type": "scatterpolar"
           }
          ],
          "scatterpolargl": [
           {
            "marker": {
             "colorbar": {
              "outlinewidth": 0,
              "ticks": ""
             }
            },
            "type": "scatterpolargl"
           }
          ],
          "scatterternary": [
           {
            "marker": {
             "colorbar": {
              "outlinewidth": 0,
              "ticks": ""
             }
            },
            "type": "scatterternary"
           }
          ],
          "surface": [
           {
            "colorbar": {
             "outlinewidth": 0,
             "ticks": ""
            },
            "colorscale": [
             [
              0,
              "#0d0887"
             ],
             [
              0.1111111111111111,
              "#46039f"
             ],
             [
              0.2222222222222222,
              "#7201a8"
             ],
             [
              0.3333333333333333,
              "#9c179e"
             ],
             [
              0.4444444444444444,
              "#bd3786"
             ],
             [
              0.5555555555555556,
              "#d8576b"
             ],
             [
              0.6666666666666666,
              "#ed7953"
             ],
             [
              0.7777777777777778,
              "#fb9f3a"
             ],
             [
              0.8888888888888888,
              "#fdca26"
             ],
             [
              1,
              "#f0f921"
             ]
            ],
            "type": "surface"
           }
          ],
          "table": [
           {
            "cells": {
             "fill": {
              "color": "#506784"
             },
             "line": {
              "color": "rgb(17,17,17)"
             }
            },
            "header": {
             "fill": {
              "color": "#2a3f5f"
             },
             "line": {
              "color": "rgb(17,17,17)"
             }
            },
            "type": "table"
           }
          ]
         },
         "layout": {
          "annotationdefaults": {
           "arrowcolor": "#f2f5fa",
           "arrowhead": 0,
           "arrowwidth": 1
          },
          "coloraxis": {
           "colorbar": {
            "outlinewidth": 0,
            "ticks": ""
           }
          },
          "colorscale": {
           "diverging": [
            [
             0,
             "#8e0152"
            ],
            [
             0.1,
             "#c51b7d"
            ],
            [
             0.2,
             "#de77ae"
            ],
            [
             0.3,
             "#f1b6da"
            ],
            [
             0.4,
             "#fde0ef"
            ],
            [
             0.5,
             "#f7f7f7"
            ],
            [
             0.6,
             "#e6f5d0"
            ],
            [
             0.7,
             "#b8e186"
            ],
            [
             0.8,
             "#7fbc41"
            ],
            [
             0.9,
             "#4d9221"
            ],
            [
             1,
             "#276419"
            ]
           ],
           "sequential": [
            [
             0,
             "#0d0887"
            ],
            [
             0.1111111111111111,
             "#46039f"
            ],
            [
             0.2222222222222222,
             "#7201a8"
            ],
            [
             0.3333333333333333,
             "#9c179e"
            ],
            [
             0.4444444444444444,
             "#bd3786"
            ],
            [
             0.5555555555555556,
             "#d8576b"
            ],
            [
             0.6666666666666666,
             "#ed7953"
            ],
            [
             0.7777777777777778,
             "#fb9f3a"
            ],
            [
             0.8888888888888888,
             "#fdca26"
            ],
            [
             1,
             "#f0f921"
            ]
           ],
           "sequentialminus": [
            [
             0,
             "#0d0887"
            ],
            [
             0.1111111111111111,
             "#46039f"
            ],
            [
             0.2222222222222222,
             "#7201a8"
            ],
            [
             0.3333333333333333,
             "#9c179e"
            ],
            [
             0.4444444444444444,
             "#bd3786"
            ],
            [
             0.5555555555555556,
             "#d8576b"
            ],
            [
             0.6666666666666666,
             "#ed7953"
            ],
            [
             0.7777777777777778,
             "#fb9f3a"
            ],
            [
             0.8888888888888888,
             "#fdca26"
            ],
            [
             1,
             "#f0f921"
            ]
           ]
          },
          "colorway": [
           "#636efa",
           "#EF553B",
           "#00cc96",
           "#ab63fa",
           "#FFA15A",
           "#19d3f3",
           "#FF6692",
           "#B6E880",
           "#FF97FF",
           "#FECB52"
          ],
          "font": {
           "color": "#f2f5fa"
          },
          "geo": {
           "bgcolor": "rgb(17,17,17)",
           "lakecolor": "rgb(17,17,17)",
           "landcolor": "rgb(17,17,17)",
           "showlakes": true,
           "showland": true,
           "subunitcolor": "#506784"
          },
          "hoverlabel": {
           "align": "left"
          },
          "hovermode": "closest",
          "mapbox": {
           "style": "dark"
          },
          "paper_bgcolor": "rgb(17,17,17)",
          "plot_bgcolor": "rgb(17,17,17)",
          "polar": {
           "angularaxis": {
            "gridcolor": "#506784",
            "linecolor": "#506784",
            "ticks": ""
           },
           "bgcolor": "rgb(17,17,17)",
           "radialaxis": {
            "gridcolor": "#506784",
            "linecolor": "#506784",
            "ticks": ""
           }
          },
          "scene": {
           "xaxis": {
            "backgroundcolor": "rgb(17,17,17)",
            "gridcolor": "#506784",
            "gridwidth": 2,
            "linecolor": "#506784",
            "showbackground": true,
            "ticks": "",
            "zerolinecolor": "#C8D4E3"
           },
           "yaxis": {
            "backgroundcolor": "rgb(17,17,17)",
            "gridcolor": "#506784",
            "gridwidth": 2,
            "linecolor": "#506784",
            "showbackground": true,
            "ticks": "",
            "zerolinecolor": "#C8D4E3"
           },
           "zaxis": {
            "backgroundcolor": "rgb(17,17,17)",
            "gridcolor": "#506784",
            "gridwidth": 2,
            "linecolor": "#506784",
            "showbackground": true,
            "ticks": "",
            "zerolinecolor": "#C8D4E3"
           }
          },
          "shapedefaults": {
           "line": {
            "color": "#f2f5fa"
           }
          },
          "sliderdefaults": {
           "bgcolor": "#C8D4E3",
           "bordercolor": "rgb(17,17,17)",
           "borderwidth": 1,
           "tickwidth": 0
          },
          "ternary": {
           "aaxis": {
            "gridcolor": "#506784",
            "linecolor": "#506784",
            "ticks": ""
           },
           "baxis": {
            "gridcolor": "#506784",
            "linecolor": "#506784",
            "ticks": ""
           },
           "bgcolor": "rgb(17,17,17)",
           "caxis": {
            "gridcolor": "#506784",
            "linecolor": "#506784",
            "ticks": ""
           }
          },
          "title": {
           "x": 0.05
          },
          "updatemenudefaults": {
           "bgcolor": "#506784",
           "borderwidth": 0
          },
          "xaxis": {
           "automargin": true,
           "gridcolor": "#283442",
           "linecolor": "#506784",
           "ticks": "",
           "title": {
            "standoff": 15
           },
           "zerolinecolor": "#283442",
           "zerolinewidth": 2
          },
          "yaxis": {
           "automargin": true,
           "gridcolor": "#283442",
           "linecolor": "#506784",
           "ticks": "",
           "title": {
            "standoff": 15
           },
           "zerolinecolor": "#283442",
           "zerolinewidth": 2
          }
         }
        },
        "title": {
         "text": "Cluster Analysis"
        },
        "width": 600
       }
      },
      "image/png": "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",
      "text/html": [
       "<div>                            <div id=\"9bfcd6ae-9052-49e6-b0b4-2869997fec9e\" class=\"plotly-graph-div\" style=\"height:525px; width:600px;\"></div>            <script type=\"text/javascript\">                require([\"plotly\"], function(Plotly) {                    window.PLOTLYENV=window.PLOTLYENV || {};                                    if (document.getElementById(\"9bfcd6ae-9052-49e6-b0b4-2869997fec9e\")) {                    Plotly.newPlot(                        \"9bfcd6ae-9052-49e6-b0b4-2869997fec9e\",                        [{\"line\": {\"width\": 2.50381679389313}, \"mode\": \"lines\", \"name\": \"Cluster0\", \"opacity\": 0.6259541984732825, \"r\": [0.2689551173494098, 0.07653933174886458, 0.07027376589782279, 0.11613364807028609, 0.029414119183443294, 0.06352207881005036, 0.2689551173494098], \"text\": [\"Mean value :30163.585365853658\", \"Mean value :5625.487804878048\", \"Mean value :6520.0\", \"Mean value :7068.9390243902435\", \"Mean value :1200.8902439024391\", \"Mean value :3045.439024390244\", \"Mean value :30163.585365853658\"], \"theta\": [\"Fresh\", \"Milk\", \"Grocery\", \"Frozen\", \"Detergents_Paper\", \"Delicatessen\", \"Fresh\"], \"type\": \"scatterpolar\"}, {\"line\": {\"width\": 2.4427480916030535}, \"mode\": \"lines\", \"name\": \"Cluster1\", \"opacity\": 0.6106870229007634, \"r\": [0.07081278811602215, 0.20535320688998332, 0.23700366458288427, 0.031660820779050095, 0.24282092732750385, 0.04505949773689592, 0.07081278811602215], \"text\": [\"Mean value :7941.725\", \"Mean value :15093.05\", \"Mean value :21989.2\", \"Mean value :1927.1625\", \"Mean value :9913.65\", \"Mean value :2160.2875\", \"Mean value :7941.725\"], \"theta\": [\"Fresh\", \"Milk\", \"Grocery\", \"Frozen\", \"Detergents_Paper\", \"Delicatessen\", \"Fresh\"], \"type\": \"scatterpolar\"}, {\"line\": {\"width\": 4.0}, \"mode\": \"lines\", \"name\": \"Cluster2\", \"opacity\": 1.0, \"r\": [0.046926237193434875, 0.031775180463964436, 0.031155865718625185, 0.027149908594843713, 0.01670986701099799, 0.017016549391588264, 0.046926237193434875], \"text\": [\"Mean value :5262.824427480916\", \"Mean value :2335.412213740458\", \"Mean value :2890.641221374046\", \"Mean value :1652.5877862595419\", \"Mean value :682.2137404580153\", \"Mean value :815.824427480916\", \"Mean value :5262.824427480916\"], \"theta\": [\"Fresh\", \"Milk\", \"Grocery\", \"Frozen\", \"Detergents_Paper\", \"Delicatessen\", \"Fresh\"], \"type\": \"scatterpolar\"}, {\"line\": {\"width\": 1.8931297709923665}, \"mode\": \"lines\", \"name\": \"Cluster3\", \"opacity\": 0.6, \"r\": [0.03369348525217011, 0.09075866887753803, 0.10408910429806195, 0.017243005735744502, 0.09849072048304529, 0.02213347436101877, 0.03369348525217011], \"text\": [\"Mean value :3778.7580645161293\", \"Mean value :6670.580645161291\", \"Mean value :9657.387096774193\", \"Mean value :1049.5645161290322\", \"Mean value :4021.0806451612902\", \"Mean value :1061.1451612903227\", \"Mean value :3778.7580645161293\"], \"theta\": [\"Fresh\", \"Milk\", \"Grocery\", \"Frozen\", \"Detergents_Paper\", \"Delicatessen\", \"Fresh\"], \"type\": \"scatterpolar\"}, {\"line\": {\"width\": 2.595419847328244}, \"mode\": \"lines\", \"name\": \"Cluster4\", \"opacity\": 0.648854961832061, \"r\": [0.13088089744551332, 0.025948365141588492, 0.02882898190532949, 0.06499241862708052, 0.010839136154130988, 0.0185833422287005, 0.13088089744551332], \"text\": [\"Mean value :14678.423529411764\", \"Mean value :1907.1529411764707\", \"Mean value :2674.752941176471\", \"Mean value :3956.0235294117647\", \"Mean value :442.52941176470586\", \"Mean value :890.9411764705883\", \"Mean value :14678.423529411764\"], \"theta\": [\"Fresh\", \"Milk\", \"Grocery\", \"Frozen\", \"Detergents_Paper\", \"Delicatessen\", \"Fresh\"], \"type\": \"scatterpolar\"}],                        {\"autosize\": false, \"template\": {\"data\": {\"bar\": [{\"error_x\": {\"color\": \"#f2f5fa\"}, \"error_y\": {\"color\": \"#f2f5fa\"}, \"marker\": {\"line\": {\"color\": \"rgb(17,17,17)\", \"width\": 0.5}}, \"type\": \"bar\"}], \"barpolar\": [{\"marker\": {\"line\": {\"color\": \"rgb(17,17,17)\", \"width\": 0.5}}, \"type\": \"barpolar\"}], \"carpet\": [{\"aaxis\": {\"endlinecolor\": \"#A2B1C6\", \"gridcolor\": \"#506784\", \"linecolor\": \"#506784\", \"minorgridcolor\": \"#506784\", \"startlinecolor\": \"#A2B1C6\"}, \"baxis\": {\"endlinecolor\": \"#A2B1C6\", \"gridcolor\": \"#506784\", \"linecolor\": \"#506784\", \"minorgridcolor\": \"#506784\", \"startlinecolor\": \"#A2B1C6\"}, \"type\": \"carpet\"}], \"choropleth\": [{\"colorbar\": {\"outlinewidth\": 0, \"ticks\": \"\"}, \"type\": \"choropleth\"}], \"contour\": [{\"colorbar\": {\"outlinewidth\": 0, \"ticks\": \"\"}, \"colorscale\": [[0.0, \"#0d0887\"], [0.1111111111111111, \"#46039f\"], [0.2222222222222222, \"#7201a8\"], [0.3333333333333333, \"#9c179e\"], [0.4444444444444444, \"#bd3786\"], [0.5555555555555556, \"#d8576b\"], [0.6666666666666666, \"#ed7953\"], [0.7777777777777778, \"#fb9f3a\"], [0.8888888888888888, \"#fdca26\"], [1.0, \"#f0f921\"]], \"type\": \"contour\"}], \"contourcarpet\": [{\"colorbar\": {\"outlinewidth\": 0, \"ticks\": \"\"}, \"type\": \"contourcarpet\"}], \"heatmap\": [{\"colorbar\": {\"outlinewidth\": 0, \"ticks\": \"\"}, \"colorscale\": [[0.0, \"#0d0887\"], [0.1111111111111111, \"#46039f\"], [0.2222222222222222, \"#7201a8\"], [0.3333333333333333, \"#9c179e\"], [0.4444444444444444, \"#bd3786\"], [0.5555555555555556, \"#d8576b\"], [0.6666666666666666, \"#ed7953\"], [0.7777777777777778, \"#fb9f3a\"], [0.8888888888888888, \"#fdca26\"], [1.0, \"#f0f921\"]], \"type\": \"heatmap\"}], \"heatmapgl\": [{\"colorbar\": {\"outlinewidth\": 0, \"ticks\": \"\"}, \"colorscale\": [[0.0, \"#0d0887\"], [0.1111111111111111, \"#46039f\"], [0.2222222222222222, \"#7201a8\"], [0.3333333333333333, \"#9c179e\"], [0.4444444444444444, \"#bd3786\"], [0.5555555555555556, \"#d8576b\"], [0.6666666666666666, \"#ed7953\"], [0.7777777777777778, \"#fb9f3a\"], [0.8888888888888888, \"#fdca26\"], [1.0, \"#f0f921\"]], \"type\": \"heatmapgl\"}], \"histogram\": [{\"marker\": {\"colorbar\": {\"outlinewidth\": 0, \"ticks\": \"\"}}, \"type\": \"histogram\"}], \"histogram2d\": [{\"colorbar\": {\"outlinewidth\": 0, \"ticks\": \"\"}, \"colorscale\": [[0.0, \"#0d0887\"], [0.1111111111111111, \"#46039f\"], [0.2222222222222222, \"#7201a8\"], [0.3333333333333333, \"#9c179e\"], [0.4444444444444444, \"#bd3786\"], [0.5555555555555556, \"#d8576b\"], [0.6666666666666666, \"#ed7953\"], [0.7777777777777778, \"#fb9f3a\"], [0.8888888888888888, \"#fdca26\"], [1.0, \"#f0f921\"]], \"type\": \"histogram2d\"}], \"histogram2dcontour\": [{\"colorbar\": {\"outlinewidth\": 0, \"ticks\": \"\"}, \"colorscale\": [[0.0, \"#0d0887\"], [0.1111111111111111, \"#46039f\"], [0.2222222222222222, \"#7201a8\"], [0.3333333333333333, \"#9c179e\"], [0.4444444444444444, \"#bd3786\"], [0.5555555555555556, \"#d8576b\"], [0.6666666666666666, \"#ed7953\"], [0.7777777777777778, \"#fb9f3a\"], [0.8888888888888888, \"#fdca26\"], [1.0, \"#f0f921\"]], \"type\": \"histogram2dcontour\"}], \"mesh3d\": [{\"colorbar\": {\"outlinewidth\": 0, \"ticks\": \"\"}, \"type\": \"mesh3d\"}], \"parcoords\": [{\"line\": {\"colorbar\": {\"outlinewidth\": 0, \"ticks\": \"\"}}, \"type\": \"parcoords\"}], \"pie\": [{\"automargin\": true, \"type\": \"pie\"}], \"scatter\": [{\"marker\": {\"line\": {\"color\": \"#283442\"}}, \"type\": \"scatter\"}], \"scatter3d\": [{\"line\": {\"colorbar\": {\"outlinewidth\": 0, \"ticks\": \"\"}}, \"marker\": {\"colorbar\": {\"outlinewidth\": 0, \"ticks\": \"\"}}, \"type\": \"scatter3d\"}], \"scattercarpet\": [{\"marker\": {\"colorbar\": {\"outlinewidth\": 0, \"ticks\": \"\"}}, \"type\": \"scattercarpet\"}], \"scattergeo\": [{\"marker\": {\"colorbar\": {\"outlinewidth\": 0, \"ticks\": \"\"}}, \"type\": \"scattergeo\"}], \"scattergl\": [{\"marker\": {\"line\": {\"color\": \"#283442\"}}, \"type\": \"scattergl\"}], \"scattermapbox\": [{\"marker\": {\"colorbar\": {\"outlinewidth\": 0, \"ticks\": \"\"}}, \"type\": \"scattermapbox\"}], \"scatterpolar\": [{\"marker\": {\"colorbar\": {\"outlinewidth\": 0, \"ticks\": \"\"}}, \"type\": \"scatterpolar\"}], \"scatterpolargl\": [{\"marker\": {\"colorbar\": {\"outlinewidth\": 0, \"ticks\": \"\"}}, \"type\": \"scatterpolargl\"}], \"scatterternary\": [{\"marker\": {\"colorbar\": {\"outlinewidth\": 0, \"ticks\": \"\"}}, \"type\": \"scatterternary\"}], \"surface\": [{\"colorbar\": {\"outlinewidth\": 0, \"ticks\": \"\"}, \"colorscale\": [[0.0, \"#0d0887\"], [0.1111111111111111, \"#46039f\"], [0.2222222222222222, \"#7201a8\"], [0.3333333333333333, \"#9c179e\"], [0.4444444444444444, \"#bd3786\"], [0.5555555555555556, \"#d8576b\"], [0.6666666666666666, \"#ed7953\"], [0.7777777777777778, \"#fb9f3a\"], [0.8888888888888888, \"#fdca26\"], [1.0, \"#f0f921\"]], \"type\": \"surface\"}], \"table\": [{\"cells\": {\"fill\": {\"color\": \"#506784\"}, \"line\": {\"color\": \"rgb(17,17,17)\"}}, \"header\": {\"fill\": {\"color\": \"#2a3f5f\"}, \"line\": {\"color\": \"rgb(17,17,17)\"}}, \"type\": \"table\"}]}, \"layout\": {\"annotationdefaults\": {\"arrowcolor\": \"#f2f5fa\", \"arrowhead\": 0, \"arrowwidth\": 1}, \"coloraxis\": {\"colorbar\": {\"outlinewidth\": 0, \"ticks\": \"\"}}, \"colorscale\": {\"diverging\": [[0, \"#8e0152\"], [0.1, \"#c51b7d\"], [0.2, \"#de77ae\"], [0.3, \"#f1b6da\"], [0.4, \"#fde0ef\"], [0.5, \"#f7f7f7\"], [0.6, \"#e6f5d0\"], [0.7, \"#b8e186\"], [0.8, \"#7fbc41\"], [0.9, \"#4d9221\"], [1, \"#276419\"]], \"sequential\": [[0.0, \"#0d0887\"], [0.1111111111111111, \"#46039f\"], [0.2222222222222222, \"#7201a8\"], [0.3333333333333333, \"#9c179e\"], [0.4444444444444444, \"#bd3786\"], [0.5555555555555556, \"#d8576b\"], [0.6666666666666666, \"#ed7953\"], [0.7777777777777778, \"#fb9f3a\"], [0.8888888888888888, \"#fdca26\"], [1.0, \"#f0f921\"]], \"sequentialminus\": [[0.0, \"#0d0887\"], [0.1111111111111111, \"#46039f\"], [0.2222222222222222, \"#7201a8\"], [0.3333333333333333, \"#9c179e\"], [0.4444444444444444, \"#bd3786\"], [0.5555555555555556, \"#d8576b\"], [0.6666666666666666, \"#ed7953\"], [0.7777777777777778, \"#fb9f3a\"], [0.8888888888888888, \"#fdca26\"], [1.0, \"#f0f921\"]]}, \"colorway\": [\"#636efa\", \"#EF553B\", \"#00cc96\", \"#ab63fa\", \"#FFA15A\", \"#19d3f3\", \"#FF6692\", \"#B6E880\", \"#FF97FF\", \"#FECB52\"], \"font\": {\"color\": \"#f2f5fa\"}, \"geo\": {\"bgcolor\": \"rgb(17,17,17)\", \"lakecolor\": \"rgb(17,17,17)\", \"landcolor\": \"rgb(17,17,17)\", \"showlakes\": true, \"showland\": true, \"subunitcolor\": \"#506784\"}, \"hoverlabel\": {\"align\": \"left\"}, \"hovermode\": \"closest\", \"mapbox\": {\"style\": \"dark\"}, \"paper_bgcolor\": \"rgb(17,17,17)\", \"plot_bgcolor\": \"rgb(17,17,17)\", \"polar\": {\"angularaxis\": {\"gridcolor\": \"#506784\", \"linecolor\": \"#506784\", \"ticks\": \"\"}, \"bgcolor\": \"rgb(17,17,17)\", \"radialaxis\": {\"gridcolor\": \"#506784\", \"linecolor\": \"#506784\", \"ticks\": \"\"}}, \"scene\": {\"xaxis\": {\"backgroundcolor\": \"rgb(17,17,17)\", \"gridcolor\": \"#506784\", \"gridwidth\": 2, \"linecolor\": \"#506784\", \"showbackground\": true, \"ticks\": \"\", \"zerolinecolor\": \"#C8D4E3\"}, \"yaxis\": {\"backgroundcolor\": \"rgb(17,17,17)\", \"gridcolor\": \"#506784\", \"gridwidth\": 2, \"linecolor\": \"#506784\", \"showbackground\": true, \"ticks\": \"\", \"zerolinecolor\": \"#C8D4E3\"}, \"zaxis\": {\"backgroundcolor\": \"rgb(17,17,17)\", \"gridcolor\": \"#506784\", \"gridwidth\": 2, \"linecolor\": \"#506784\", \"showbackground\": true, \"ticks\": \"\", \"zerolinecolor\": \"#C8D4E3\"}}, \"shapedefaults\": {\"line\": {\"color\": \"#f2f5fa\"}}, \"sliderdefaults\": {\"bgcolor\": \"#C8D4E3\", \"bordercolor\": \"rgb(17,17,17)\", \"borderwidth\": 1, \"tickwidth\": 0}, \"ternary\": {\"aaxis\": {\"gridcolor\": \"#506784\", \"linecolor\": \"#506784\", \"ticks\": \"\"}, \"baxis\": {\"gridcolor\": \"#506784\", \"linecolor\": \"#506784\", \"ticks\": \"\"}, \"bgcolor\": \"rgb(17,17,17)\", \"caxis\": {\"gridcolor\": \"#506784\", \"linecolor\": \"#506784\", \"ticks\": \"\"}}, \"title\": {\"x\": 0.05}, \"updatemenudefaults\": {\"bgcolor\": \"#506784\", \"borderwidth\": 0}, \"xaxis\": {\"automargin\": true, \"gridcolor\": \"#283442\", \"linecolor\": \"#506784\", \"ticks\": \"\", \"title\": {\"standoff\": 15}, \"zerolinecolor\": \"#283442\", \"zerolinewidth\": 2}, \"yaxis\": {\"automargin\": true, \"gridcolor\": \"#283442\", \"linecolor\": \"#506784\", \"ticks\": \"\", \"title\": {\"standoff\": 15}, \"zerolinecolor\": \"#283442\", \"zerolinewidth\": 2}}}, \"title\": {\"text\": \"Cluster Analysis\"}, \"width\": 600},                        {\"responsive\": true}                    ).then(function(){\n",
       "                            \n",
       "var gd = document.getElementById('9bfcd6ae-9052-49e6-b0b4-2869997fec9e');\n",
       "var x = new MutationObserver(function (mutations, observer) {{\n",
       "        var display = window.getComputedStyle(gd).display;\n",
       "        if (!display || display === 'none') {{\n",
       "            console.log([gd, 'removed!']);\n",
       "            Plotly.purge(gd);\n",
       "            observer.disconnect();\n",
       "        }}\n",
       "}});\n",
       "\n",
       "// Listen for the removal of the full notebook cells\n",
       "var notebookContainer = gd.closest('#notebook-container');\n",
       "if (notebookContainer) {{\n",
       "    x.observe(notebookContainer, {childList: true});\n",
       "}}\n",
       "\n",
       "// Listen for the clearing of the current output cell\n",
       "var outputEl = gd.closest('.output');\n",
       "if (outputEl) {{\n",
       "    x.observe(outputEl, {childList: true});\n",
       "}}\n",
       "\n",
       "                        })                };                });            </script>        </div>"
      ]
     },
     "metadata": {},
     "output_type": "display_data"
    }
   ],
   "source": [
    "fig=go.Figure()\n",
    "\n",
    "for cluster in np.unique(clusters):\n",
    "    radii=df_normalized.loc[df_normalized.cluster_kpca_cos==cluster, \n",
    "                            features].mean().tolist()\n",
    "    \n",
    "    \n",
    "    thetas=features\n",
    "    actual_values=df.loc[df.cluster_kpca_cos==cluster, features].mean().tolist()\n",
    "    cluster_size=len(df[df.cluster_kpca_cos==cluster])\n",
    "    \n",
    "    fig.add_trace(go.Scatterpolar(\n",
    "        r=radii+[radii[0]], \n",
    "        theta=thetas+[thetas[0]], \n",
    "        mode=\"lines\", \n",
    "        name=f'Cluster{cluster}',\n",
    "        text=[f'Mean value :{x}' for x in actual_values+[actual_values[0]]],\n",
    "        opacity=np.max([0.6, cluster_size/biggest_cluster]),\n",
    "        line=dict(width=np.max([1, 4*cluster_size/biggest_cluster]))\n",
    "    )\n",
    "                 )\n",
    "    \n",
    "fig.update_layout(\n",
    "    title=\"Cluster Analysis\", \n",
    "    template=\"plotly_dark\", \n",
    "    width=600,\n",
    "    autosize=False)\n",
    "    \n",
    "fig.show()"
   ]
  },
  {
   "cell_type": "code",
   "execution_count": 33,
   "metadata": {},
   "outputs": [],
   "source": [
    "fig.write_html('Demo.html')"
   ]
  }
 ],
 "metadata": {
  "kernelspec": {
   "display_name": "Python 3",
   "language": "python",
   "name": "python3"
  },
  "language_info": {
   "codemirror_mode": {
    "name": "ipython",
    "version": 3
   },
   "file_extension": ".py",
   "mimetype": "text/x-python",
   "name": "python",
   "nbconvert_exporter": "python",
   "pygments_lexer": "ipython3",
   "version": "3.6.9"
  }
 },
 "nbformat": 4,
 "nbformat_minor": 4
}
